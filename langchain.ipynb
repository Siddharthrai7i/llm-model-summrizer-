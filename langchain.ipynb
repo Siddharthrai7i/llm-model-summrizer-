{
 "cells": [
  {
   "cell_type": "markdown",
   "metadata": {},
   "source": [
    " ##set an environment variable with my Hugging Face API token##"
   ]
  },
  {
   "cell_type": "code",
   "execution_count": 11,
   "metadata": {},
   "outputs": [],
   "source": [
    "from langchain import HuggingFaceHub\n",
    "import os"
   ]
  },
  {
   "cell_type": "code",
   "execution_count": null,
   "metadata": {},
   "outputs": [],
   "source": [
    "os.environ[\"HUGGINGFACEHUB_API_TOKEN\"]=\"****************yur api key\""
   ]
  },
  {
   "cell_type": "markdown",
   "metadata": {},
   "source": [
    "import a class from large language model library "
   ]
  },
  {
   "cell_type": "code",
   "execution_count": null,
   "metadata": {},
   "outputs": [],
   "source": [
    "\n",
    "llm_huggingface=HuggingFaceHub(repo_id=\"utrobinmv/t5_summary_en_ru_zh_base_2048\",model_kwargs={\"temperature\":0,\"max_length\":60})"
   ]
  },
  {
   "cell_type": "markdown",
   "metadata": {},
   "source": [
    "im using the repo id to summarise the given txt "
   ]
  },
  {
   "cell_type": "markdown",
   "metadata": {},
   "source": [
    "(from huggingFace)"
   ]
  },
  {
   "cell_type": "markdown",
   "metadata": {},
   "source": [
    "giving a long tsxt file to see that my code is working or not "
   ]
  },
  {
   "cell_type": "code",
   "execution_count": 14,
   "metadata": {},
   "outputs": [],
   "source": [
    "output=llm_huggingface.predict(\"In the urgent battle against climate change, finding sustainable solutions is paramount. While efforts to reduce carbon emissions are crucial, it's equally essential to actively remove carbon dioxide from the atmosphere to combat climate change effectively.The consequences of climate change are becoming increasingly apparent, from rising global temperatures to extreme weather events and ecosystem disruptions. As we grapple with these challenges, the need for comprehensive mitigation strategies has never been more pressing.Reducing carbon emissions is undeniably a critical component of any climate action plan. Transitioning to renewable energy sources, improving energy efficiency, and implementing policies to limit emissions from industry, transportation, and agriculture are all vital steps in curbing our carbon footprint. However, even with aggressive emissions reduction efforts, the carbon dioxide already present in the atmosphere continues to contribute to climate change.This is where the concept of carbon removal comes into play. Actively removing carbon dioxide from the atmosphere—also known as carbon sequestration—is essential for stabilizing our climate and averting the most severe impacts of global warming. While natural processes such as photosynthesis and ocean uptake naturally sequester carbon, human intervention is needed to enhance these processes and develop additional carbon removal technologies.How and Why Biochar is a Perfect SolutionBiochar is one such technology with significant carbon sequestration potential. By converting organic waste into a stable form of carbon and incorporating it into the soil, biochar effectively removes carbon dioxide from the atmosphere and stores it in a long-term reservoir. This process not only helps mitigate climate change but also improves soil fertility and resilience.​Biochar is a remarkable substance with the potential to revolutionize our approach to combating climate change and promoting sustainable agriculture. At its core, biochar is a form of charcoal, but its creation and properties make it so much more than just a byproduct of combustion.Produced through a process called pyrolysis, biochar is crafted from organic materials such as agricultural waste, wood chips, or crop residues. Pyrolysis involves heating these materials in the absence of oxygen, resulting in their decomposition into a mixture of gases, liquids, and solids. The solid residue that remains is what we know as biochar.This unique production method distinguishes biochar from traditional charcoal. While charcoal is primarily created for fuel purposes, biochar is intentionally crafted for its environmental and agricultural benefits. Its creation through pyrolysis locks carbon into a stable form, effectively removing carbon dioxide from the atmosphere and storing it in the soil for centuries to millennia.Biochar's porous structure provides numerous advantages for soil health and fertility. Its presence in the soil enhances its ability to retain water and nutrients, promoting healthier plant growth and reducing the need for synthetic fertilizers. Additionally, biochar acts as a habitat for beneficial microorganisms, further enriching the soil ecosystem.By transforming organic waste into a valuable resource, biochar represents a sustainable solution to both environmental and agricultural challenges. Its production not only helps mitigate climate change by sequestering carbon but also improves soil quality, w\")"
   ]
  },
  {
   "cell_type": "markdown",
   "metadata": {},
   "source": [
    "print the summary of the given text "
   ]
  },
  {
   "cell_type": "code",
   "execution_count": 15,
   "metadata": {},
   "outputs": [
    {
     "name": "stdout",
     "output_type": "stream",
     "text": [
      "In our series of letters from African journalists, novelist and writer Elizabeth Ohene looks at why Biochar is a Perfect SolutionBiochar.\n"
     ]
    }
   ],
   "source": [
    "print(output)"
   ]
  },
  {
   "cell_type": "code",
   "execution_count": 16,
   "metadata": {},
   "outputs": [],
   "source": [
    "from fpdf import FPDF\n",
    "from tkinter import*\n",
    "from tkinter import filedialog\n"
   ]
  },
  {
   "cell_type": "markdown",
   "metadata": {},
   "source": [
    "these library are used to generate the pdf of your text"
   ]
  },
  {
   "cell_type": "code",
   "execution_count": 17,
   "metadata": {},
   "outputs": [],
   "source": [
    "import pickle as pk"
   ]
  },
  {
   "cell_type": "markdown",
   "metadata": {},
   "source": [
    "importing pkl to convert in binary file to use my model into a python file "
   ]
  },
  {
   "cell_type": "code",
   "execution_count": 18,
   "metadata": {},
   "outputs": [],
   "source": [
    "with open ('model.pkl' , 'wb') as file:\n",
    "    pk.dump(llm_huggingface , file)"
   ]
  },
  {
   "cell_type": "code",
   "execution_count": 19,
   "metadata": {},
   "outputs": [],
   "source": [
    "with open('model.pkl' , 'rb') as file:\n",
    "    modal=pk.load(file)"
   ]
  },
  {
   "cell_type": "markdown",
   "metadata": {},
   "source": [
    "my code is correct and ready to use of large language model"
   ]
  }
 ],
 "metadata": {
  "kernelspec": {
   "display_name": "Python 3",
   "language": "python",
   "name": "python3"
  },
  "language_info": {
   "codemirror_mode": {
    "name": "ipython",
    "version": 3
   },
   "file_extension": ".py",
   "mimetype": "text/x-python",
   "name": "python",
   "nbconvert_exporter": "python",
   "pygments_lexer": "ipython3",
   "version": "3.9.20"
  }
 },
 "nbformat": 4,
 "nbformat_minor": 2
}
